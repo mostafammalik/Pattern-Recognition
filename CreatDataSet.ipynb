{
 "cells": [
  {
   "cell_type": "code",
   "execution_count": 2,
   "metadata": {},
   "outputs": [],
   "source": [
    "from prml.linear import (\n",
    "    LinearRegression, RidgeRegression, BayesianRegression\n",
    ")\n",
    "from prml.preprocess import PolynomialFeature\n",
    "import numpy as np\n",
    "import matplotlib.pyplot as plt\n",
    "np.random.seed(1234)"
   ]
  },
  {
   "cell_type": "code",
   "execution_count": 3,
   "metadata": {},
   "outputs": [],
   "source": [
    "\n",
    "# create an artificial dataset with added gaussian noise\n",
    "def create_dataset(func, sample_size, std):\n",
    "    # create features of values between 0 and 1 with size sample_size\n",
    "    x = np.linspace(0, 1, sample_size)\n",
    "    # create the target vector computed from the function func with added noise\n",
    "    t = func(x) + np.random.normal(scale=std, size=x.shape)\n",
    "    return x, t"
   ]
  },
  {
   "cell_type": "code",
   "execution_count": 4,
   "metadata": {},
   "outputs": [],
   "source": [
    "# create the function sin(2*pi*x) that resembles the target values\n",
    "def my_sin(x):\n",
    "    return np.sin(2 * np.pi * x)"
   ]
  },
  {
   "cell_type": "code",
   "execution_count": 7,
   "metadata": {},
   "outputs": [],
   "source": [
    "# generate the training dataset (x_train, y_train), we will create 10 samples with standard deviation 0.25\n",
    "x_train, y_train = create_dataset(my_sin, 10, 0.25)\n",
    "\n",
    "# generate test dataset with 100 samples that resembles the true underlying function\n",
    "x_test = np.linspace(0, 1, 100)\n",
    "y_test = my_sin(x_test)\n",
    "\n",
    "trains = np.transpose(np.array([x_train, y_train]))\n",
    "np.savetxt('Train dataset.csv',trains, delimiter=',') # note you can add full path ex: np.savetxt(r'C:\\folder\\Train dataset.csv',trains, delimiter=',') \n",
    "tests = np.transpose(np.array([x_test, y_test]))\n",
    "np.savetxt('Test dataset.csv',tests, delimiter=',') \n",
    "\n",
    "\n"
   ]
  }
 ],
 "metadata": {
  "kernelspec": {
   "display_name": "base",
   "language": "python",
   "name": "python3"
  },
  "language_info": {
   "codemirror_mode": {
    "name": "ipython",
    "version": 3
   },
   "file_extension": ".py",
   "mimetype": "text/x-python",
   "name": "python",
   "nbconvert_exporter": "python",
   "pygments_lexer": "ipython3",
   "version": "3.7.4"
  },
  "orig_nbformat": 4,
  "vscode": {
   "interpreter": {
    "hash": "b073df65e1aff54d53bfd7c44b7f72f89ab98798b9ac9a84962eb7f547487196"
   }
  }
 },
 "nbformat": 4,
 "nbformat_minor": 2
}
